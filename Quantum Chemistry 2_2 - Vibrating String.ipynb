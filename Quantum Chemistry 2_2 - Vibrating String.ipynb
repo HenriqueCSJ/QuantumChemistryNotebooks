{
 "cells": [
  {
   "cell_type": "code",
   "execution_count": 15,
   "metadata": {},
   "outputs": [
    {
     "data": {
      "application/javascript": [
       "MathJax.Extension[\"TeX/cancel\"]={version:\"2.4.0\",ALLOWED:{color:1,mathcolor:1,background:1,mathbackground:1,padding:1,thickness:1}};MathJax.Hub.Register.StartupHook(\"TeX Jax Ready\",function(){var c=MathJax.InputJax.TeX,a=MathJax.ElementJax.mml,b=MathJax.Extension[\"TeX/cancel\"];b.setAttributes=function(h,e){if(e!==\"\"){e=e.replace(/ /g,\"\").split(/,/);for(var g=0,d=e.length;g<d;g++){var f=e[g].split(/[:=]/);if(b.ALLOWED[f[0]]){if(f[1]===\"true\"){f[1]=true}if(f[1]===\"false\"){f[1]=false}h[f[0]]=f[1]}}}return h};c.Definitions.Add({macros:{cancel:[\"Cancel\",a.NOTATION.UPDIAGONALSTRIKE],bcancel:[\"Cancel\",a.NOTATION.DOWNDIAGONALSTRIKE],xcancel:[\"Cancel\",a.NOTATION.UPDIAGONALSTRIKE+\" \"+a.NOTATION.DOWNDIAGONALSTRIKE],cancelto:\"CancelTo\"}},null,true);c.Parse.Augment({Cancel:function(e,g){var d=this.GetBrackets(e,\"\"),f=this.ParseArg(e);var h=b.setAttributes({notation:g},d);this.Push(a.menclose(f).With(h))},CancelTo:function(e,g){var i=this.ParseArg(e),d=this.GetBrackets(e,\"\"),f=this.ParseArg(e);var h=b.setAttributes({notation:a.NOTATION.UPDIAGONALSTRIKE+\" \"+a.NOTATION.UPDIAGONALARROW},d);i=a.mpadded(i).With({depth:\"-.1em\",height:\"+.1em\",voffset:\".1em\"});this.Push(a.msup(a.menclose(f).With(h),i))}});MathJax.Hub.Startup.signal.Post(\"TeX cancel Ready\")});MathJax.Ajax.loadComplete(\"[MathJax]/extensions/TeX/cancel.js\");\n"
      ],
      "text/plain": [
       "<IPython.core.display.Javascript object>"
      ]
     },
     "metadata": {},
     "output_type": "display_data"
    }
   ],
   "source": [
    "%%javascript\n",
    "MathJax.Extension[\"TeX/cancel\"]={version:\"2.4.0\",ALLOWED:{color:1,mathcolor:1,background:1,mathbackground:1,padding:1,thickness:1}};MathJax.Hub.Register.StartupHook(\"TeX Jax Ready\",function(){var c=MathJax.InputJax.TeX,a=MathJax.ElementJax.mml,b=MathJax.Extension[\"TeX/cancel\"];b.setAttributes=function(h,e){if(e!==\"\"){e=e.replace(/ /g,\"\").split(/,/);for(var g=0,d=e.length;g<d;g++){var f=e[g].split(/[:=]/);if(b.ALLOWED[f[0]]){if(f[1]===\"true\"){f[1]=true}if(f[1]===\"false\"){f[1]=false}h[f[0]]=f[1]}}}return h};c.Definitions.Add({macros:{cancel:[\"Cancel\",a.NOTATION.UPDIAGONALSTRIKE],bcancel:[\"Cancel\",a.NOTATION.DOWNDIAGONALSTRIKE],xcancel:[\"Cancel\",a.NOTATION.UPDIAGONALSTRIKE+\" \"+a.NOTATION.DOWNDIAGONALSTRIKE],cancelto:\"CancelTo\"}},null,true);c.Parse.Augment({Cancel:function(e,g){var d=this.GetBrackets(e,\"\"),f=this.ParseArg(e);var h=b.setAttributes({notation:g},d);this.Push(a.menclose(f).With(h))},CancelTo:function(e,g){var i=this.ParseArg(e),d=this.GetBrackets(e,\"\"),f=this.ParseArg(e);var h=b.setAttributes({notation:a.NOTATION.UPDIAGONALSTRIKE+\" \"+a.NOTATION.UPDIAGONALARROW},d);i=a.mpadded(i).With({depth:\"-.1em\",height:\"+.1em\",voffset:\".1em\"});this.Push(a.msup(a.menclose(f).With(h),i))}});MathJax.Hub.Startup.signal.Post(\"TeX cancel Ready\")});MathJax.Ajax.loadComplete(\"[MathJax]/extensions/TeX/cancel.js\");"
   ]
  },
  {
   "cell_type": "markdown",
   "metadata": {},
   "source": [
    "# Quantum Chemistry 2.2 - Vibrating String "
   ]
  },
  {
   "cell_type": "markdown",
   "metadata": {},
   "source": [
    "$$u(x,t) \\rightarrow wave~displacement$$"
   ]
  },
  {
   "cell_type": "markdown",
   "metadata": {},
   "source": [
    "<center><img src=\"Images\\Classic_wave\\1D_classic_wave.jpg\" width=\"300\"></center>"
   ]
  },
  {
   "cell_type": "markdown",
   "metadata": {},
   "source": [
    "$$ \\frac{\\partial^{2} u \\left( x,y \\right)}{\\partial x^{2}} = \\frac{1}{v^{2}} \\frac{\\partial^{2} u \\left( x,y \\right)}{\\partial t^{2}}$$\n",
    "\n",
    "$$ u \\left( x,t \\right) = X \\left( x \\right) T \\left( t \\right) $$\n"
   ]
  },
  {
   "cell_type": "markdown",
   "metadata": {},
   "source": [
    "As seen in the previous section, the second derivatives can be written as trigonometric functions for the spatial $(X(t))$ and time $(T(t))$ parts\n",
    "\n",
    "$$\n",
    "X \\left( x \\right) = A \\cos \\left( \\beta x \\right) + B \\sin \\left( \\beta x \\right) \\\\\n",
    "T \\left( t \\right) = C \\cos \\left( \\beta v t \\right) + D \\sin \\left( \\beta v t \\right)\n",
    "$$"
   ]
  },
  {
   "cell_type": "markdown",
   "metadata": {},
   "source": [
    "## Boundary conditions"
   ]
  },
  {
   "cell_type": "markdown",
   "metadata": {},
   "source": [
    "$$\n",
    "    for~all~t= \n",
    "\\begin{cases}\n",
    "    u \\left( 0, t \\right) = 0 \\\\\n",
    "    u \\left( l, t \\right) = 0\n",
    "\\end{cases}\n",
    "$$\n",
    "\n",
    "The boundary condition says that the string is \"clamped\" at x = 0 and x = l."
   ]
  },
  {
   "cell_type": "markdown",
   "metadata": {},
   "source": [
    "At X(0) we have:\n",
    "\n",
    "$$\n",
    "X \\left( x \\right) = A \\cos \\left( \\beta x \\right) + B \\sin \\left( \\beta x \\right) \\\\\n",
    "X \\left( 0 \\right) = A \\cos \\left( \\beta 0 \\right) + B \\sin \\left( \\beta 0 \\right)\n",
    "$$\n",
    "\n",
    "Remembering that $\\cos \\left(0 \\right) = 1$ and $\\sin \\left(0 \\right) = 0$:\n",
    "\n",
    "$$\n",
    "\\begin{align*}\n",
    "X \\left( 0 \\right) &= 0 = A \\cancelto{1}{\\cos \\left( \\beta 0 \\right)} + \\cancelto{0}{B \\sin \\left( \\beta 0 \\right)} \\\\\n",
    "X \\left( 0 \\right) &= 0 = A, so~A~=0\n",
    "\\end{align*}\n",
    "$$\n",
    "\n",
    "Or, that means that at X(0), the amplitude of the wave is zero (0). A = 0.\n",
    "\n",
    "Now we know that at X(0) and X(l) the amplitures must be zero and, we already found that for $X \\left( 0 \\right) = 0 = A$:\n",
    "\n",
    "$$\n",
    "\\begin{align*}\n",
    "X \\left( l \\right) &= 0 = B \\sin \\left( \\beta l \\right) \\\\\n",
    "X \\left( l \\right) &= \\sin^{-1} \\left( 0 \\right) = \\beta l = n \\pi\n",
    "\\end{align*}\n",
    "$$\n",
    "\n",
    "$n \\pi$ indicates that the movement is quantized!!!\n",
    "\n",
    "$$\n",
    "\\beta = \\frac{n \\pi}{l}, n \\in \\mathbb{Z}\n",
    "$$\n",
    "\n",
    "To $X \\left( x \\right)$ we have, then:\n",
    "\n",
    "$$\n",
    "X \\left( x \\right) = B \\sin \\left( \\frac{n \\pi x}{l} \\right)\n"
   ]
  },
  {
   "cell_type": "markdown",
   "metadata": {},
   "source": [
    "Whenever we have a situation like A*cos(xy) + B*sin(xy) and the exact same arguments (xy) we can reinterpret the function as:\n",
    "\n",
    "$$\n",
    "\\begin{align*}\n",
    "T \\left( t \\right) &= C \\cos \\left( \\frac{n \\pi v t}{l} \\right) + D \\sin \\left( \\frac{n \\pi v t}{l} \\right) \\\\\n",
    "&= E \\cos \\left( \\frac{n \\pi v t}{l} + \\Phi\\right) \n",
    "\\end{align*}\n",
    "$$\n",
    "\n",
    "Where $\\Phi$ is a **phase factor** determined by the ratio of the amplitures **C** and **D** and E is a new amplitude. "
   ]
  },
  {
   "cell_type": "markdown",
   "metadata": {},
   "source": [
    "The function $u \\left( x, t \\right) = X \\left( x \\right) T \\left( t \\right) $ may be rewritten as:\n",
    "$$\n",
    "u \\left( x, t \\right) = A \\cos \\left( \\frac{n \\pi v t}{l} + \\Phi\\right) \\sin \\left( \\frac{n \\pi x}{l} \\right)\n",
    "$$\n",
    "\n",
    "With the solution above representing only ONE particular solution. But any solution for any value of $n$ is valid and a \"general solution\" is a linear combination off all possible $n$ values:\n",
    "\n",
    "$$\n",
    "u \\left( x, t \\right) = \\sum_{n=1}^{\\infty} A_{n} \\cos \\left( \\frac{n \\pi v t}{l} + \\Phi\\right) \\sin \\left( \\frac{n \\pi x}{l} \\right)\n",
    "$$"
   ]
  },
  {
   "cell_type": "code",
   "execution_count": 1,
   "metadata": {},
   "outputs": [],
   "source": [
    "from __future__ import print_function\n",
    "import numpy as np\n",
    "import matplotlib.pyplot as plt\n",
    "from ipywidgets import interact, interactive, fixed, interact_manual\n",
    "import ipywidgets as widgets\n",
    "import matplotlib as mpl\n",
    "%matplotlib inline"
   ]
  },
  {
   "cell_type": "code",
   "execution_count": 2,
   "metadata": {},
   "outputs": [],
   "source": [
    "mpl.style.use(\"default\")"
   ]
  },
  {
   "cell_type": "code",
   "execution_count": 3,
   "metadata": {},
   "outputs": [
    {
     "data": {
      "application/vnd.jupyter.widget-view+json": {
       "model_id": "91132bc90ee24820ae9fc91069aac382",
       "version_major": 2,
       "version_minor": 0
      },
      "text/plain": [
       "interactive(children=(FloatSlider(value=6.0, description='f', max=12.0), Output()), _dom_classes=('widget-inte…"
      ]
     },
     "metadata": {},
     "output_type": "display_data"
    }
   ],
   "source": [
    "def f(f):\n",
    "    n = 2001\n",
    "    r = 1\n",
    "    A = 0.15\n",
    "    theta = np.linspace(0, 10*np.pi, n)\n",
    "    curve1 = r * np.ones(n)\n",
    "    curve2 = r + A*np.sin(f*theta)\n",
    "    \n",
    "    plt.figure(figsize=(6,6))\n",
    "    \n",
    "    ax1 = plt.subplot(111, polar=True)\n",
    "    ax1.plot(theta, curve1)\n",
    "    ax1.plot(theta, curve2)\n",
    "    \n",
    "    plt.show()\n",
    "\n",
    "\n",
    "interactive_plot = interactive(f, f=(0, 12, 0.1))\n",
    "output = interactive_plot.children[-1]\n",
    "#output.layout.height = '380px'\n",
    "interactive_plot"
   ]
  },
  {
   "cell_type": "code",
   "execution_count": 4,
   "metadata": {},
   "outputs": [
    {
     "ename": "AttributeError",
     "evalue": "'float' object has no attribute 'v'",
     "output_type": "error",
     "traceback": [
      "\u001b[1;31m---------------------------------------------------------------------------\u001b[0m",
      "\u001b[1;31mAttributeError\u001b[0m                            Traceback (most recent call last)",
      "\u001b[1;32m<ipython-input-4-485da8adc9d8>\u001b[0m in \u001b[0;36m<module>\u001b[1;34m\u001b[0m\n\u001b[0;32m      5\u001b[0m \u001b[0mx\u001b[0m \u001b[1;33m=\u001b[0m \u001b[0mnp\u001b[0m\u001b[1;33m.\u001b[0m\u001b[0mlinspace\u001b[0m\u001b[1;33m(\u001b[0m\u001b[1;36m0\u001b[0m\u001b[1;33m,\u001b[0m \u001b[1;36m1\u001b[0m\u001b[1;33m,\u001b[0m \u001b[0mpoints\u001b[0m\u001b[1;33m)\u001b[0m\u001b[1;33m\u001b[0m\u001b[1;33m\u001b[0m\u001b[0m\n\u001b[0;32m      6\u001b[0m \u001b[0ml\u001b[0m \u001b[1;33m=\u001b[0m \u001b[1;36m1\u001b[0m\u001b[1;33m\u001b[0m\u001b[1;33m\u001b[0m\u001b[0m\n\u001b[1;32m----> 7\u001b[1;33m \u001b[0mfunc\u001b[0m \u001b[1;33m=\u001b[0m \u001b[0mnp\u001b[0m\u001b[1;33m.\u001b[0m\u001b[0msin\u001b[0m\u001b[1;33m(\u001b[0m\u001b[1;33m(\u001b[0m\u001b[0mn\u001b[0m\u001b[1;33m*\u001b[0m\u001b[0mnp\u001b[0m\u001b[1;33m.\u001b[0m\u001b[0mpi\u001b[0m\u001b[1;33m*\u001b[0m\u001b[0mx\u001b[0m\u001b[1;33m)\u001b[0m\u001b[1;33m/\u001b[0m\u001b[0ml\u001b[0m\u001b[1;33m)\u001b[0m\u001b[1;33m*\u001b[0m\u001b[0mnp\u001b[0m\u001b[1;33m.\u001b[0m\u001b[0mcos\u001b[0m\u001b[1;33m(\u001b[0m\u001b[1;33m(\u001b[0m\u001b[0mn\u001b[0m\u001b[1;33m*\u001b[0m\u001b[0mnp\u001b[0m\u001b[1;33m.\u001b[0m\u001b[0mpi\u001b[0m\u001b[1;33m.\u001b[0m\u001b[0mv\u001b[0m\u001b[1;33m*\u001b[0m\u001b[0mt\u001b[0m\u001b[1;33m)\u001b[0m\u001b[1;33m/\u001b[0m\u001b[0ml\u001b[0m\u001b[1;33m)\u001b[0m\u001b[1;33m\u001b[0m\u001b[1;33m\u001b[0m\u001b[0m\n\u001b[0m",
      "\u001b[1;31mAttributeError\u001b[0m: 'float' object has no attribute 'v'"
     ]
    }
   ],
   "source": [
    "points = 2001\n",
    "n = 1\n",
    "v = np.linspace(0, 10*np.pi, points)\n",
    "t = np.linspace(0, 10, points)\n",
    "x = np.linspace(0, 1, points)\n",
    "l = 1\n",
    "func = np.sin((n*np.pi*x)/l)*np.cos((n*np.pi.v*t)/l)"
   ]
  },
  {
   "cell_type": "code",
   "execution_count": null,
   "metadata": {},
   "outputs": [],
   "source": [
    "t = np.linspace(0, 10, 2001)\n",
    "L = 2\n",
    "x = np.linspace(0, L, 2001)\n",
    "v = np.linspace(0.2, 5, 2001)\n",
    "n = 0\n",
    "#func = np.sin(np.pi*l)*np.cos(np.pi*l)\n",
    "func = np.sin((n*np.pi*x)/L)*np.cos((n*np.pi*v*t)/L)"
   ]
  },
  {
   "cell_type": "code",
   "execution_count": null,
   "metadata": {},
   "outputs": [],
   "source": [
    "plt.plot(x, func)"
   ]
  },
  {
   "cell_type": "code",
   "execution_count": null,
   "metadata": {},
   "outputs": [],
   "source": [
    "def f(n=1):\n",
    "    t = np.linspace(0, 10, 2001)\n",
    "    L = 2\n",
    "    x = np.linspace(0, L, 2001)\n",
    "    v = np.linspace(0.2, 5, 2001)\n",
    "    n = 0\n",
    "    func = np.sin((n*np.pi*x)/L)*np.cos((n*np.pi*v*t)/L)\n",
    "\n",
    "    \n",
    "    plt.figure(figsize=(6,6))\n",
    "    ax1 = plt.plot(x, func)\n",
    "    plt.show()\n",
    "\n",
    "\n",
    "interactive_plot = interactive(f, n=(0, 10, 1))\n",
    "output = interactive_plot.children[-1]\n",
    "interactive_plot"
   ]
  },
  {
   "cell_type": "code",
   "execution_count": null,
   "metadata": {},
   "outputs": [],
   "source": [
    "n"
   ]
  },
  {
   "cell_type": "code",
   "execution_count": null,
   "metadata": {},
   "outputs": [],
   "source": [
    "from __future__ import print_function\n",
    "from ipywidgets import interact, interactive, fixed, interact_manual\n",
    "import ipywidgets as widgets\n",
    "import matplotlib.pyplot as plt, random\n",
    "\n",
    "def series(dots, colr):\n",
    "    a,b=[],[]\n",
    "    for i in range(dots):\n",
    "        a.append(random.randint(1,100))\n",
    "        b.append(random.randint(1,100))\n",
    "    plt.scatter(a,b, c=colr)\n",
    "    return()\n",
    "interact(series, dots=(1,100,1), colr=[\"red\",\"orange\",\"brown\"]); #semicolon dumps text reports from the function call"
   ]
  },
  {
   "cell_type": "code",
   "execution_count": 5,
   "metadata": {},
   "outputs": [],
   "source": [
    "import numpy as np"
   ]
  },
  {
   "cell_type": "code",
   "execution_count": null,
   "metadata": {},
   "outputs": [],
   "source": []
  },
  {
   "cell_type": "code",
   "execution_count": null,
   "metadata": {},
   "outputs": [],
   "source": []
  }
 ],
 "metadata": {
  "kernelspec": {
   "display_name": "Python 3",
   "language": "python",
   "name": "python3"
  },
  "language_info": {
   "codemirror_mode": {
    "name": "ipython",
    "version": 3
   },
   "file_extension": ".py",
   "mimetype": "text/x-python",
   "name": "python",
   "nbconvert_exporter": "python",
   "pygments_lexer": "ipython3",
   "version": "3.6.13"
  }
 },
 "nbformat": 4,
 "nbformat_minor": 4
}
