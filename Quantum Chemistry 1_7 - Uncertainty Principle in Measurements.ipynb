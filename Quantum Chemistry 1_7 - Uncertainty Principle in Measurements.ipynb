{
 "cells": [
  {
   "cell_type": "markdown",
   "metadata": {},
   "source": [
    "# 1.7 - Uncertainty Principle in Measurements"
   ]
  },
  {
   "cell_type": "markdown",
   "metadata": {},
   "source": [
    "## Heisenberg Uncertainty Principle"
   ]
  },
  {
   "cell_type": "markdown",
   "metadata": {},
   "source": [
    "The uncertainty in the position of an electron is directly related to the _wavelenght_ of the photon that we use to measure the electron position. That means that if the wavelenght of the photon is large, the uncertainty in the electron's position is also large.\n",
    "\n",
    "$$\\Delta x \\approx \\lambda_{photon} $$\n",
    "\n",
    "But if the wavelenght of the photon is smaller (more energetic), then the momentum of the electron itself is harder to determine because it gets overshadowed by the photon's.\n",
    "\n",
    "$$p = \\frac{h}{\\lambda} \\rightarrow \\lambda \\downarrow = p\\uparrow ~~~~ \\Delta x \\downarrow = \\Delta p \\uparrow$$"
   ]
  },
  {
   "cell_type": "markdown",
   "metadata": {},
   "source": [
    "![](Images/Heisenberg_uncertainty/uncertainty.jpg)"
   ]
  },
  {
   "cell_type": "markdown",
   "metadata": {},
   "source": [
    "In 1920 Heisenberg observed the relation that:\n",
    "\n",
    "$$\\bbox[5px, border: 2px solid red]{\\Delta x \\Delta p \\geq \\frac{\\hbar}{2}}$$"
   ]
  },
  {
   "cell_type": "code",
   "execution_count": null,
   "metadata": {},
   "outputs": [],
   "source": []
  }
 ],
 "metadata": {
  "kernelspec": {
   "display_name": "Python 3",
   "language": "python",
   "name": "python3"
  },
  "language_info": {
   "codemirror_mode": {
    "name": "ipython",
    "version": 3
   },
   "file_extension": ".py",
   "mimetype": "text/x-python",
   "name": "python",
   "nbconvert_exporter": "python",
   "pygments_lexer": "ipython3",
   "version": "3.7.6"
  }
 },
 "nbformat": 4,
 "nbformat_minor": 4
}
