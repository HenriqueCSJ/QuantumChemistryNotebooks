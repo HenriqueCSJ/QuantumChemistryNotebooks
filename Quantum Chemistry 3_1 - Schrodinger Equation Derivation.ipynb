{
 "metadata": {
  "language_info": {
   "codemirror_mode": {
    "name": "ipython",
    "version": 3
   },
   "file_extension": ".py",
   "mimetype": "text/x-python",
   "name": "python",
   "nbconvert_exporter": "python",
   "pygments_lexer": "ipython3",
   "version": "3.6.13"
  },
  "orig_nbformat": 2,
  "kernelspec": {
   "name": "python3",
   "display_name": "Python 3.6.13 64-bit ('phd': conda)",
   "metadata": {
    "interpreter": {
     "hash": "a4ef6079800856486aae3e8d203457c8a2b00708582258cfc0fee4e35dba6dd7"
    }
   }
  }
 },
 "nbformat": 4,
 "nbformat_minor": 2,
 "cells": [
  {
   "cell_type": "code",
   "execution_count": 1,
   "metadata": {},
   "outputs": [
    {
     "output_type": "display_data",
     "data": {
      "text/plain": "<IPython.core.display.Javascript object>",
      "application/javascript": "MathJax.Extension[\"TeX/cancel\"]={version:\"2.4.0\",ALLOWED:{color:1,mathcolor:1,background:1,mathbackground:1,padding:1,thickness:1}};MathJax.Hub.Register.StartupHook(\"TeX Jax Ready\",function(){var c=MathJax.InputJax.TeX,a=MathJax.ElementJax.mml,b=MathJax.Extension[\"TeX/cancel\"];b.setAttributes=function(h,e){if(e!==\"\"){e=e.replace(/ /g,\"\").split(/,/);for(var g=0,d=e.length;g<d;g++){var f=e[g].split(/[:=]/);if(b.ALLOWED[f[0]]){if(f[1]===\"true\"){f[1]=true}if(f[1]===\"false\"){f[1]=false}h[f[0]]=f[1]}}}return h};c.Definitions.Add({macros:{cancel:[\"Cancel\",a.NOTATION.UPDIAGONALSTRIKE],bcancel:[\"Cancel\",a.NOTATION.DOWNDIAGONALSTRIKE],xcancel:[\"Cancel\",a.NOTATION.UPDIAGONALSTRIKE+\" \"+a.NOTATION.DOWNDIAGONALSTRIKE],cancelto:\"CancelTo\"}},null,true);c.Parse.Augment({Cancel:function(e,g){var d=this.GetBrackets(e,\"\"),f=this.ParseArg(e);var h=b.setAttributes({notation:g},d);this.Push(a.menclose(f).With(h))},CancelTo:function(e,g){var i=this.ParseArg(e),d=this.GetBrackets(e,\"\"),f=this.ParseArg(e);var h=b.setAttributes({notation:a.NOTATION.UPDIAGONALSTRIKE+\" \"+a.NOTATION.UPDIAGONALARROW},d);i=a.mpadded(i).With({depth:\"-.1em\",height:\"+.1em\",voffset:\".1em\"});this.Push(a.msup(a.menclose(f).With(h),i))}});MathJax.Hub.Startup.signal.Post(\"TeX cancel Ready\")});MathJax.Ajax.loadComplete(\"[MathJax]/extensions/TeX/cancel.js\");\n"
     },
     "metadata": {}
    }
   ],
   "source": [
    "%%javascript\n",
    "MathJax.Extension[\"TeX/cancel\"]={version:\"2.4.0\",ALLOWED:{color:1,mathcolor:1,background:1,mathbackground:1,padding:1,thickness:1}};MathJax.Hub.Register.StartupHook(\"TeX Jax Ready\",function(){var c=MathJax.InputJax.TeX,a=MathJax.ElementJax.mml,b=MathJax.Extension[\"TeX/cancel\"];b.setAttributes=function(h,e){if(e!==\"\"){e=e.replace(/ /g,\"\").split(/,/);for(var g=0,d=e.length;g<d;g++){var f=e[g].split(/[:=]/);if(b.ALLOWED[f[0]]){if(f[1]===\"true\"){f[1]=true}if(f[1]===\"false\"){f[1]=false}h[f[0]]=f[1]}}}return h};c.Definitions.Add({macros:{cancel:[\"Cancel\",a.NOTATION.UPDIAGONALSTRIKE],bcancel:[\"Cancel\",a.NOTATION.DOWNDIAGONALSTRIKE],xcancel:[\"Cancel\",a.NOTATION.UPDIAGONALSTRIKE+\" \"+a.NOTATION.DOWNDIAGONALSTRIKE],cancelto:\"CancelTo\"}},null,true);c.Parse.Augment({Cancel:function(e,g){var d=this.GetBrackets(e,\"\"),f=this.ParseArg(e);var h=b.setAttributes({notation:g},d);this.Push(a.menclose(f).With(h))},CancelTo:function(e,g){var i=this.ParseArg(e),d=this.GetBrackets(e,\"\"),f=this.ParseArg(e);var h=b.setAttributes({notation:a.NOTATION.UPDIAGONALSTRIKE+\" \"+a.NOTATION.UPDIAGONALARROW},d);i=a.mpadded(i).With({depth:\"-.1em\",height:\"+.1em\",voffset:\".1em\"});this.Push(a.msup(a.menclose(f).With(h),i))}});MathJax.Hub.Startup.signal.Post(\"TeX cancel Ready\")});MathJax.Ajax.loadComplete(\"[MathJax]/extensions/TeX/cancel.js\");"
   ]
  },
  {
   "source": [
    "# Quantum Chemistry 3.1 - Schrodinger Equation \"Derivation\""
   ],
   "cell_type": "markdown",
   "metadata": {}
  },
  {
   "source": [
    "The Schrodinger Equation is a **postulate** it can not be \"derived\".\n",
    "\n",
    "> An axiom, postulate or assumption is a statement that is taken to be true, to serve as a premise or starting point for further reasoning and arguments. The word comes from the Greek axíōma (ἀξίωμα) 'that which is thought worthy or fit' or 'that which commends itself as evident.\n",
    "\n",
    "Starting from the **classical** wavefunction:\n",
    "\n"
   ],
   "cell_type": "markdown",
   "metadata": {}
  },
  {
   "source": [
    "$$\n",
    "\\frac{\\partial^{2} u \\left( x,y \\right)}{\\partial x^{2}} \n",
    "= \n",
    "\\frac{1}{v^{2}} \\frac{\\partial^{2} u \\left( x,y \\right)}{\\partial t^{2}}\n",
    "\\rightarrow\n",
    "u \\left( x,t \\right)\n",
    "=\n",
    "\\Psi\\left( x \\right) \\cos \\left( \\omega t \\right)\n",
    "$$\n",
    "\n",
    "So, as in the \"clasic\" interpretation, the wavefunction have a \"spatial ampliture\" $\\Psi\\left( x \\right)$ part and a time part.\n",
    "\n",
    "Now, lets substitute $\\Psi\\left( x \\right) \\cos \\left( \\omega t \\right)$ into our classic wave equation:"
   ],
   "cell_type": "markdown",
   "metadata": {}
  },
  {
   "source": [
    "$$\n",
    "\\cancel{\\cos \\left( \\omega t \\right)} \\frac{d^{2} \\Psi\\left( x \\right)}{d x^{2}} \n",
    "= \n",
    "- \\frac{\\omega^{2}}{v^{2}}\\Psi\\left( x \\right) \\cancel{\\cos \\left( \\omega t \\right)}\n",
    "$$"
   ],
   "cell_type": "markdown",
   "metadata": {}
  },
  {
   "source": [
    "$$\n",
    "\\frac{d^{2} \\Psi\\left( x \\right)}{d x^{2}} \n",
    "+ \n",
    "\\frac{\\omega^{2}}{v^{2}}\\Psi\\left( x \\right)\n",
    "=\n",
    "0\n",
    "$$"
   ],
   "cell_type": "markdown",
   "metadata": {}
  },
  {
   "source": [
    "$\\omega$ is the **angular velocity**:\n",
    "\n",
    "$$\n",
    "\\omega = 2 \\pi \\nu\n",
    "$$\n",
    "Remembering that the velocity ($v$) of a wave equals its frequency ($\\nu$) times its wavelength ($\\lambda$):\n",
    "\n",
    "$$\n",
    "\\nu \\lambda = v\n",
    "$$"
   ],
   "cell_type": "markdown",
   "metadata": {}
  },
  {
   "source": [
    "$$\n",
    "\\frac{\\omega^{2}}{v^{2}}\n",
    "=\n",
    "\\frac{4 \\pi^{2} \\cancel{\\nu^{2}}}{\\cancel{\\nu^{2}} \\lambda^{2}}\n",
    "=\n",
    "\\frac{4 \\pi^{2} }{\\lambda^{2}}\n",
    "$$\n",
    "\n",
    "Adding to the wavefunction:"
   ],
   "cell_type": "markdown",
   "metadata": {}
  },
  {
   "source": [
    "$$\n",
    "\\frac{d^{2} \\Psi\\left( x \\right)}{d x^{2}} \n",
    "+ \n",
    "\\frac{4 \\pi^{2} }{\\lambda^{2}} \\Psi\\left( x \\right)\n",
    "=\n",
    "0\n",
    "$$"
   ],
   "cell_type": "markdown",
   "metadata": {}
  },
  {
   "source": [
    "The total energy of a particle is the sum of the kinetic energy and the potential energy:\n",
    "\n",
    "$$\n",
    "\\begin{align*}\n",
    "E &= \\underbrace{\\frac{p^{2}}{2 m}}_{kinetic} + \\underbrace{V \\left( x \\right)}_{potential} \\\\\n",
    "p &= \\sqrt{2m \\left( E - V \\left( x \\right) \\right)}\n",
    "\\end{align*}\n",
    "$$"
   ],
   "cell_type": "markdown",
   "metadata": {}
  },
  {
   "source": [
    "According to the DeBroglie hypothesis:\n",
    "\n",
    "$$\n",
    "\\lambda = \\frac{h}{p}\n",
    "$$\n",
    "\n",
    "Remembering that $\\hbar = \\frac{h}{2 \\pi}$:\n",
    "\n",
    "$$\n",
    "\\frac{4 \\pi^{2}}{\\lambda^{2}}\n",
    "=\n",
    "\\frac{4 \\pi^{2} p^2}{h^{2}}\n",
    "=\n",
    "\\frac{p^2}{\\hbar^{2}}\n",
    "=\n",
    "\\frac{2m \\left( E - V \\left( x \\right) \\right)}{\\hbar^{2}}\n",
    "$$\n"
   ],
   "cell_type": "markdown",
   "metadata": {}
  },
  {
   "source": [
    "So, returning to the wavefunction:\n",
    "\n",
    "$$\n",
    "\\frac{d^{2} \\Psi\\left( x \\right)}{d x^{2}} \n",
    "+ \n",
    "\\frac{4 \\pi^{2} }{\\lambda^{2}} \\Psi\\left( x \\right)\n",
    "=\n",
    "0\n",
    "$$\n",
    "\n",
    "We may substitute:\n",
    "\n",
    "$$\n",
    "\\frac{4 \\pi^{2}}{\\lambda^{2}}\n",
    "=\n",
    "\\frac{2m \\left( E - V \\left( x \\right) \\right)}{\\hbar^{2}}\n",
    "$$\n",
    "\n",
    "And get:\n",
    "\n",
    "$$\n",
    "\\frac{d^{2} \\Psi\\left( x \\right)}{d x^{2}} \n",
    "+ \n",
    "\\frac{2m \\left( E - V \\left( x \\right) \\right)}{\\hbar^{2}} \\Psi\\left( x \\right)\n",
    "=\n",
    "0\n",
    "$$"
   ],
   "cell_type": "markdown",
   "metadata": {}
  },
  {
   "source": [
    "We may now solve:\n",
    "$$\n",
    "\\begin{align*}\n",
    "\\frac{d^{2} \\Psi\\left( x \\right)}{d x^{2}} \n",
    "+ \n",
    "\\frac{2m \\left( E - V \\left( x \\right) \\right)}{\\hbar^{2}} \\Psi\\left( x \\right)\n",
    "&=\n",
    "0 \\\\\n",
    "\\frac{d^{2} \\Psi\\left( x \\right)}{d x^{2}} \n",
    "&=\n",
    "\\frac{2m \\left( E - V \\left( x \\right) \\right)}{\\hbar^{2}} \\Psi\\left( x \\right) \\\\\n",
    "\n",
    "\\left( -\\frac{\\hbar^{2}}{2m} \\right) \\times\n",
    "\\frac{d^{2} \\Psi\\left( x \\right)}{d x^{2}} \n",
    "&=\n",
    "\\left( -\\frac{\\hbar^{2}}{2m} \\right) \\times\n",
    "\\frac{2m \\left( E - V \\left( x \\right) \\right)}{\\hbar^{2}} \\Psi\\left( x \\right) \\\\\n",
    "\n",
    "\\left( -\\frac{\\hbar^{2}}{2m} \\right) \\times\n",
    "\\frac{d^{2} \\Psi\\left( x \\right)}{d x^{2}} \n",
    "&=\n",
    "\\left( E - V \\left( x \\right) \\right) \\Psi\\left( x \\right) \\\\\n",
    "\n",
    "-\\frac{\\hbar^{2}}{2m}\n",
    "\\frac{d^{2} \\Psi\\left( x \\right)}{d x^{2}} \n",
    "&=\n",
    "E \\Psi\\left( x \\right)  - V \\left( x \\right) \\Psi\\left( x \\right) \\\\\n",
    "\n",
    "-\\frac{\\hbar^{2}}{2m}\n",
    "\\frac{d^{2} \\Psi\\left( x \\right)}{d x^{2}} + V \\left( x \\right) \\Psi\\left( x \\right)\n",
    "&=\n",
    "E \\Psi\\left( x \\right) \\\\\n",
    "\n",
    "Or \\\\\n",
    "\n",
    "E \\Psi\\left( x \\right)\n",
    "&=\n",
    "-\\frac{\\hbar^{2}}{2m}\n",
    "\\frac{d^{2} \\Psi\\left( x \\right)}{d x^{2}} + V \\left( x \\right) \\Psi\\left( x \\right)\n",
    "\n",
    "\\end{align*}\n",
    "\n",
    "$$"
   ],
   "cell_type": "markdown",
   "metadata": {}
  },
  {
   "cell_type": "code",
   "execution_count": null,
   "metadata": {},
   "outputs": [],
   "source": []
  }
 ]
}