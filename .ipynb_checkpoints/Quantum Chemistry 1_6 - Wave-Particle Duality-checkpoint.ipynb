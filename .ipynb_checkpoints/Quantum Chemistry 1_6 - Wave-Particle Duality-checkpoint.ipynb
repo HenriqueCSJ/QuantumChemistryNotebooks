{
 "cells": [
  {
   "cell_type": "markdown",
   "metadata": {},
   "source": [
    "# Quantum Chemistry 1.6 - Wave-Particle Duality"
   ]
  },
  {
   "cell_type": "markdown",
   "metadata": {},
   "source": [
    "**<ins>Einstein 1906:</ins>** light is a particle and a wave!\n",
    "\n",
    "**<ins>De Broglie 1924:</ins>** matter is a particle and a wave too!\n",
    "\n",
    "$$\n",
    "\\lambda = \\frac{h}{p} = \\frac{h}{mv}\n",
    "$$\n",
    "\n",
    "$\\lambda$ = wavelenght\n",
    "\n",
    "p = momentum\n",
    "<hr>\n",
    "\n",
    "If large <ins>**m**</ins> $\\rightarrow \\lambda~\\approx~0$\n",
    "\n",
    "If small <ins>**m**</ins> $\\rightarrow \\lambda~>~0$\n",
    "\n",
    "<hr>\n",
    "\n",
    "$\\lambda$ electron ~ $\\lambda$ x-ray"
   ]
  },
  {
   "cell_type": "markdown",
   "metadata": {},
   "source": [
    "## De Broglie wave for eletron interference"
   ]
  },
  {
   "cell_type": "markdown",
   "metadata": {},
   "source": [
    "$$\n",
    "\\begin{align}\n",
    "2 \\pi r &= n \\lambda \\\\\n",
    "(circunference) &= n (wavelenght)\n",
    "\\end{align}\n",
    "$$"
   ]
  },
  {
   "cell_type": "markdown",
   "metadata": {},
   "source": [
    "![](Images/DeBroglieWave/DBWave.png)"
   ]
  },
  {
   "cell_type": "markdown",
   "metadata": {},
   "source": [
    "The path taken by the (De Broglie) wavefunction must be an **integer** so the wavefunction aways have a constructive interaction. Non integer number (n) forms an destructive interaction where the wavefunction overlaps"
   ]
  },
  {
   "cell_type": "code",
   "execution_count": 1,
   "metadata": {},
   "outputs": [],
   "source": [
    "from __future__ import print_function\n",
    "import numpy as np\n",
    "import matplotlib.pyplot as plt\n",
    "from ipywidgets import interact, interactive, fixed, interact_manual\n",
    "import ipywidgets as widgets\n",
    "import matplotlib as mpl\n",
    "%matplotlib inline"
   ]
  },
  {
   "cell_type": "code",
   "execution_count": 2,
   "metadata": {},
   "outputs": [],
   "source": [
    "mpl.style.use(\"default\")"
   ]
  },
  {
   "cell_type": "code",
   "execution_count": 3,
   "metadata": {},
   "outputs": [
    {
     "data": {
      "application/vnd.jupyter.widget-view+json": {
       "model_id": "a9cba7f2424049e4959fae17ed79778b",
       "version_major": 2,
       "version_minor": 0
      },
      "text/plain": [
       "interactive(children=(FloatSlider(value=6.0, description='f', max=12.0), Output()), _dom_classes=('widget-inte…"
      ]
     },
     "metadata": {},
     "output_type": "display_data"
    }
   ],
   "source": [
    "def f(f):\n",
    "    n = 2001\n",
    "    r = 1\n",
    "    A = 0.15\n",
    "    theta = np.linspace(0, 10*np.pi, n)\n",
    "    curve1 = r * np.ones(n)\n",
    "    curve2 = r + A*np.sin(f*theta)\n",
    "    \n",
    "    plt.figure(figsize=(6,6))\n",
    "    \n",
    "    ax1 = plt.subplot(111, polar=True)\n",
    "    ax1.plot(theta, curve1)\n",
    "    ax1.plot(theta, curve2)\n",
    "    \n",
    "    plt.show()\n",
    "\n",
    "\n",
    "interactive_plot = interactive(f, f=(0, 12, 0.1))\n",
    "output = interactive_plot.children[-1]\n",
    "#output.layout.height = '380px'\n",
    "interactive_plot"
   ]
  },
  {
   "cell_type": "markdown",
   "metadata": {},
   "source": [
    "## What's happening?"
   ]
  },
  {
   "cell_type": "markdown",
   "metadata": {},
   "source": [
    "$$2 \\pi r = \\frac{nh}{p} = \\frac{nh}{mv} $$\n",
    "$$m v r = \\frac{n h}{2 \\pi} $$\n",
    "\n",
    "$ m v r = l$ (we just obtained the angular momentum in perfect circular motion here)\n",
    "\n",
    "$\\hbar = \\frac{h}{2 \\pi}$, so...\n",
    "$$ l = n \\hbar $$\n",
    "That is the **Bohr Quantization Condition**!"
   ]
  },
  {
   "cell_type": "code",
   "execution_count": null,
   "metadata": {},
   "outputs": [],
   "source": []
  }
 ],
 "metadata": {
  "kernelspec": {
   "display_name": "Python 3",
   "language": "python",
   "name": "python3"
  },
  "language_info": {
   "codemirror_mode": {
    "name": "ipython",
    "version": 3
   },
   "file_extension": ".py",
   "mimetype": "text/x-python",
   "name": "python",
   "nbconvert_exporter": "python",
   "pygments_lexer": "ipython3",
   "version": "3.7.6"
  }
 },
 "nbformat": 4,
 "nbformat_minor": 4
}
