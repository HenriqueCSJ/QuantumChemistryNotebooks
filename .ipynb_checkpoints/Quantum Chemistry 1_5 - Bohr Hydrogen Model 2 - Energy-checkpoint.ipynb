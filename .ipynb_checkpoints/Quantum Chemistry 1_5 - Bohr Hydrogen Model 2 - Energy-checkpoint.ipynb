{
 "cells": [
  {
   "cell_type": "markdown",
   "metadata": {},
   "source": [
    "# Quantum Chemistry 1.5 - Bohr Hydrogen Model 2: Energy"
   ]
  },
  {
   "cell_type": "markdown",
   "metadata": {},
   "source": [
    "$$\\left ( Coulumb force \\right ) = \\left ( Centrifugal force \\right )$$"
   ]
  },
  {
   "cell_type": "markdown",
   "metadata": {},
   "source": [
    "$$\\begin{equation}\n",
    "\\frac{e^{2}}{4\\pi\\varepsilon_{0}r^{2}} = \\frac{mv^{2}}{r} \\tag{1}\n",
    "\\end{equation}$$"
   ]
  },
  {
   "cell_type": "markdown",
   "metadata": {},
   "source": [
    "Bohr assumed that the angular momentum ($l$) was quantized, so:\n",
    "\n",
    "$l = mvr = n\\hbar$ (with $n \\in \\mathbb{Z}$)"
   ]
  },
  {
   "cell_type": "markdown",
   "metadata": {},
   "source": [
    "$$\n",
    "\\begin{equation}\n",
    "r = \\frac{4\\pi\\varepsilon_{0}\\hbar^{2}n^{2}}{m_{e}e^{2}} = 0.529 ~\\overset{\\lower.5em\\circ}{\\mathrm{A}} \\tag{2}\n",
    "\\end{equation}\n",
    "$$"
   ]
  },
  {
   "cell_type": "markdown",
   "metadata": {},
   "source": [
    "This is the so called \"Bohr Radius\""
   ]
  },
  {
   "cell_type": "markdown",
   "metadata": {},
   "source": [
    "The total energy on the system is given by the sum of **kinetic energy** + **Potential energy**:\n",
    "\n",
    "$$E = T + V = \\frac{1}{2}m_{e}v^{2} - \\frac{e^{2}}{4\\pi\\varepsilon_{0}r} \\tag{3}$$\n",
    "\n",
    "Where the potential energy is the coulombic attraction between electron and nucleus."
   ]
  },
  {
   "cell_type": "markdown",
   "metadata": {},
   "source": [
    "We can simplify **equation 1**:\n",
    "$$\\begin{equation}\n",
    "\\require{cancel}\n",
    "\\frac{e^{2}}{4\\pi\\varepsilon_{0}\\cancel{r}^{2}} = \\frac{mv^{2}}{\\cancel{r}} \\\\\n",
    "\\frac{e^{2}}{4\\pi\\varepsilon_{0}r} = mv^{2}\n",
    "\\end{equation}$$\n",
    "So:\n",
    "$$\n",
    "\\begin{equation}\n",
    "\\require{cancel}\n",
    "\\frac{e^{2}}{8\\pi\\varepsilon_{0}r} = \\frac{1}{2}mv^{2}\n",
    "\\end{equation}\n",
    "$$"
   ]
  },
  {
   "cell_type": "code",
   "execution_count": null,
   "metadata": {},
   "outputs": [],
   "source": [
    "import sympy as sp\n",
    "from sympy.abc import e, r, v, E, n, c\n",
    "π = sp.Symbol(\"π\")\n",
    "ε = sp.Symbol(\"ε_{0}\")\n",
    "ħ = sp.Symbol(\"ħ\")\n",
    "h = sp.Symbol(\"h\")\n",
    "m = sp.Symbol(\"m_{e}\")\n",
    "n1 = sp.Symbol(\"n_{1}\")\n",
    "n2 = sp.Symbol(\"n_{2}\")"
   ]
  },
  {
   "cell_type": "markdown",
   "metadata": {},
   "source": [
    "Remember that $E = \\frac{1}{2}m_{e}v^{2} - \\frac{e^{2}}{4\\pi\\varepsilon_{0}r}$, so:\n",
    "\n",
    "$$E = \\frac{e^{2}}{8\\pi\\varepsilon_{0}r} - \\frac{e^{2}}{4\\pi\\varepsilon_{0}r}$$\n",
    "\n",
    "Then, E is equal to:"
   ]
  },
  {
   "cell_type": "code",
   "execution_count": null,
   "metadata": {},
   "outputs": [],
   "source": [
    "E = (e**2)/(8*π*ε*r) - (e**2)/(4*π*ε*r)\n",
    "E"
   ]
  },
  {
   "cell_type": "markdown",
   "metadata": {},
   "source": [
    "But, as seen in equation (2): $r = \\frac{4\\pi\\varepsilon_{0}\\hbar^{2}n^{2}}{m_{e}e^{2}}$, then **E** can be rewritten as:"
   ]
  },
  {
   "cell_type": "code",
   "execution_count": null,
   "metadata": {},
   "outputs": [],
   "source": [
    "r = (4*π*ε*ħ**2*n**2)/(m*e**2)\n",
    "r;"
   ]
  },
  {
   "cell_type": "code",
   "execution_count": null,
   "metadata": {},
   "outputs": [],
   "source": [
    "E = -(e**2)/(8*π*ε*r)\n",
    "E"
   ]
  },
  {
   "cell_type": "markdown",
   "metadata": {},
   "source": [
    "And this expression can be rearranged to:\n",
    "$$ E = - \\frac{m_{e}e^{4}}{32\\hbar^{2}\\varepsilon_{0}^{2}\\pi^{2}}\\left ( \\frac{1}{n^{2}} \\right ) $$"
   ]
  },
  {
   "cell_type": "markdown",
   "metadata": {},
   "source": [
    "The energy difference between two energy levels is:\n",
    "\n",
    "$$\\Delta E = E_{n_{2}} - E_{n_{1}} = h\\nu = hc\\widetilde{\\nu} = \\frac{m_{e}e^{4}}{32\\hbar^{2}\\varepsilon_{0}^{2}\\pi^{2}}\\left ( \\frac{1}{n_{2}^{2}} - \\frac{1}{n_{1}^{2}} \\right )$$\n",
    "\n",
    "$\\nu = \\frac{c}{\\lambda}$\n",
    "\n",
    "$\\widetilde{\\nu} = \\frac{1}{\\lambda}$\n",
    "\n",
    "The right hand part of the equation looks like the Rydberg equation: $\\widetilde{\\nu} = R_{H}\\left ( \\frac{1}{n_{2}^{2}} - \\frac{1}{n_{1}^{2}} \\right )$ if we make $R_{H} = \\frac{m_{e}e^{4}}{32\\hbar^{2}\\varepsilon_{0}^{2}\\pi^{2}}$, then, we could write:\n",
    "$$\n",
    "hc\\widetilde{\\nu} = \\frac{m_{e}e^{4}}{32\\hbar^{2}\\varepsilon_{0}^{2}\\pi^{2}}\\left ( \\frac{1}{n_{2}^{2}} - \\frac{1}{n_{1}^{2}} \\right )\n",
    "$$\n",
    "\n",
    "(Remembering that $\\hbar = \\frac{h}{2\\pi}$)"
   ]
  },
  {
   "cell_type": "markdown",
   "metadata": {},
   "source": [
    "And the Rydberg constant $R_{H}$ is:\n",
    "\n",
    "$$\n",
    "R_{H} = \\widetilde{\\nu} = \\frac{\\frac{m_{e}e^{4}}{32\\hbar^{2}\\varepsilon_{0}^{2}\\pi^{2}}}{hc}\n",
    "$$\n",
    "\n",
    "Which can be solved as:"
   ]
  },
  {
   "cell_type": "code",
   "execution_count": null,
   "metadata": {},
   "outputs": [],
   "source": [
    "# Here I had to change ħ to h\n",
    "((m*e**4)/(32*(h/(2*π))**2*ε**2*π**2))/(h*c)"
   ]
  },
  {
   "cell_type": "markdown",
   "metadata": {},
   "source": [
    "Putting all physical constants in place:"
   ]
  },
  {
   "cell_type": "code",
   "execution_count": null,
   "metadata": {},
   "outputs": [],
   "source": [
    "from scipy.constants import pi, epsilon_0, hbar, electron_mass, elementary_charge, speed_of_light, Planck\n",
    "import pint"
   ]
  },
  {
   "cell_type": "code",
   "execution_count": null,
   "metadata": {},
   "outputs": [],
   "source": [
    "ureg = pint.UnitRegistry()"
   ]
  },
  {
   "cell_type": "code",
   "execution_count": null,
   "metadata": {},
   "outputs": [],
   "source": [
    "m_e = electron_mass\n",
    "π = pi\n",
    "ħ = hbar\n",
    "h = Planck\n",
    "e = elementary_charge\n",
    "ε = epsilon_0\n",
    "c = speed_of_light"
   ]
  },
  {
   "cell_type": "code",
   "execution_count": null,
   "metadata": {},
   "outputs": [],
   "source": [
    "Ry = ((e * ureg.coulomb)**4 * (m_e * ureg.kilogram))/(8 * (c * (ureg.meter/ureg.second)) * (h*(ureg.meter**2 * ureg.kilogram/ureg.second))**3 * (ε*((ureg.coulomb**2)/(ureg.newton * ureg.meter**2)))**2)"
   ]
  },
  {
   "cell_type": "code",
   "execution_count": null,
   "metadata": {},
   "outputs": [],
   "source": [
    "Ry"
   ]
  },
  {
   "cell_type": "code",
   "execution_count": null,
   "metadata": {},
   "outputs": [],
   "source": [
    "Ry = Ry.to_base_units()"
   ]
  },
  {
   "cell_type": "code",
   "execution_count": null,
   "metadata": {},
   "outputs": [],
   "source": [
    "Ry"
   ]
  },
  {
   "cell_type": "code",
   "execution_count": null,
   "metadata": {},
   "outputs": [],
   "source": [
    "Ry.to(\"1/cm\")"
   ]
  },
  {
   "cell_type": "code",
   "execution_count": null,
   "metadata": {},
   "outputs": [],
   "source": []
  }
 ],
 "metadata": {
  "kernelspec": {
   "display_name": "Python 3",
   "language": "python",
   "name": "python3"
  },
  "language_info": {
   "codemirror_mode": {
    "name": "ipython",
    "version": 3
   },
   "file_extension": ".py",
   "mimetype": "text/x-python",
   "name": "python",
   "nbconvert_exporter": "python",
   "pygments_lexer": "ipython3",
   "version": "3.7.6"
  }
 },
 "nbformat": 4,
 "nbformat_minor": 4
}
