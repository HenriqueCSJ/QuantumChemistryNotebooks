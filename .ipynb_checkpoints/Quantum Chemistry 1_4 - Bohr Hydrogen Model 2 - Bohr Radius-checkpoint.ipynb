{
 "cells": [
  {
   "cell_type": "markdown",
   "metadata": {},
   "source": [
    "# Bohr Hydrogen"
   ]
  },
  {
   "cell_type": "code",
   "execution_count": null,
   "metadata": {},
   "outputs": [],
   "source": [
    "import numpy as np\n",
    "import scipy as sc\n",
    "from scipy.constants import electron_mass, Planck, epsilon_0, elementary_charge\n",
    "import matplotlib.pyplot as plt\n",
    "import sympy as sp\n",
    "%matplotlib inline"
   ]
  },
  {
   "cell_type": "markdown",
   "metadata": {},
   "source": [
    "O raio de Bohr ($a_{0}$ ou $r_{Bohr}$) é uma constante física igual à distância mais provável entre o núcleo e o elétron em um átomo de hidrogênio no estado fundamnetal, considerando-se que o elétron se move em uma trajetória perfeitamente circular.\n",
    "\n",
    "![](Images/Bohr_radius/bohrradius.png)"
   ]
  },
  {
   "cell_type": "markdown",
   "metadata": {},
   "source": [
    "![](Images/Bohr_radius/linear_vs_angular.jpeg)"
   ]
  },
  {
   "cell_type": "markdown",
   "metadata": {},
   "source": [
    "O movimento circular do elétron é, então, dado por:\n",
    "\n",
    "$$\n",
    "\\begin{aligned}\n",
    "\\left ( Coulomb~Force \\right ) &= \\left ( Centrifugal~Force \\right ) \\\\\n",
    "\\frac{e^{2}}{4\\pi\\varepsilon_{0}r^{2}} &= \\frac{m_{e}v^{2}}{r}\n",
    "\\end{aligned}\n",
    "$$"
   ]
  },
  {
   "cell_type": "markdown",
   "metadata": {},
   "source": [
    "Alguns parâmetros são conhecidos:\n",
    "\n",
    "$\n",
    "\\bullet~~e = 1.602176634\\times10^{-19}C \\\\\n",
    "\\bullet~~\\pi = 3.14159265359 \\\\\n",
    "\\bullet~~\\varepsilon_{0} = 8.8541878128\\times10^{−12}~\\frac{C^{2}}{Nm^{2}}\\\\\n",
    "\\bullet~~m_{e} = 9.1093837015\\times10^{−31} Kg\n",
    "$\n",
    "\n",
    "Enquanto $v$ e $r$ são desconhecidos."
   ]
  },
  {
   "cell_type": "markdown",
   "metadata": {},
   "source": [
    "Bohr, em 1911 assumiu que o momentoo angular do elétron é quantizado. Portanto, que:\n",
    "\n",
    "$l = m_{e}vr = n\\hbar$; $\\quad \\hbar = \\frac{h}{2\\pi}$ para n ≥ 0\n",
    "\n",
    "Logo:\n",
    "\n",
    "$$\n",
    "\\begin{align}\n",
    "n\\hbar &= m_{e}vr \\\\\n",
    "v &= \\frac{n\\hbar}{m_{e}r}\n",
    "\\end{align}\n",
    "$$\n",
    "\n",
    "Portanto:\n",
    "\n",
    "$$\n",
    "\\begin{aligned}\n",
    "\\frac{e^{2}}{4\\pi\\varepsilon_{0}r^{2}} &= \\frac{m_{e}v^{2}}{r} \\\\\n",
    "\\frac{e^{2}}{4\\pi\\varepsilon_{0}r^{2}} &= \\frac{m_{e}\\left ( \\frac{n\\hbar}{m_{e}r} \\right )^{2}}{r} \\\\\n",
    "rm_{e}e^{2} &= 4\\pi\\varepsilon_{0}n^{2}\\hbar^{2} \\\\\n",
    "r &= \\frac{4\\pi\\varepsilon_{0}n^{2}\\hbar^{2}}{m_{e}e^{2}}\n",
    "\\end{aligned}\n",
    "$$"
   ]
  },
  {
   "cell_type": "code",
   "execution_count": null,
   "metadata": {},
   "outputs": [],
   "source": [
    "C = sp.Symbol(\"C\")\n",
    "m = sp.Symbol(\"m\")\n",
    "N = sp.Symbol(\"N\")\n",
    "Kg = sp.Symbol(\"Kg\")\n",
    "s = sp.Symbol(\"s\")\n",
    "e = 1.602176634*10**(-19)\n",
    "π = np.pi\n",
    "h = 6.62607004*10**(-34)\n",
    "ħ = h/(2*π)\n",
    "ε = 8.8541878128*10**(-12)\n",
    "m_e = 9.1093837015*10**(-31)\n",
    "n = 3"
   ]
  },
  {
   "cell_type": "code",
   "execution_count": null,
   "metadata": {},
   "outputs": [],
   "source": [
    "r = ((4*π)*(ε*(C**2/(N*m**2)))*(n**2)*((ħ*((Kg*m**2)/s))**2))/((m_e*Kg)*(e*C)**2)"
   ]
  },
  {
   "cell_type": "code",
   "execution_count": null,
   "metadata": {},
   "outputs": [],
   "source": [
    "r"
   ]
  },
  {
   "cell_type": "markdown",
   "metadata": {},
   "source": [
    "$N = \\frac{Kg~m}{s^{2}}$\n",
    "\n",
    "então:\n",
    "\n",
    "$r = 5.29177193336246\\times10^{-11}~m$\n",
    "\n",
    "$r = 0.529177193336246~Å$"
   ]
  },
  {
   "cell_type": "code",
   "execution_count": null,
   "metadata": {},
   "outputs": [],
   "source": [
    "e = elementary_charge\n",
    "π = np.pi\n",
    "h = Planck\n",
    "ħ = h/(2*π)\n",
    "ε = epsilon_0\n",
    "m_e = electron_mass\n",
    "n = 1"
   ]
  },
  {
   "cell_type": "code",
   "execution_count": null,
   "metadata": {},
   "outputs": [],
   "source": [
    "r = (4*π*ε*n**2*ħ**2)/(m_e*e**2)"
   ]
  },
  {
   "cell_type": "code",
   "execution_count": null,
   "metadata": {},
   "outputs": [],
   "source": [
    "n = np.arange(0, 11)\n",
    "r = (4*π*ε*n**2*ħ**2)/(m_e*e**2)"
   ]
  },
  {
   "cell_type": "code",
   "execution_count": null,
   "metadata": {},
   "outputs": [],
   "source": [
    "plt.plot(n, r)"
   ]
  },
  {
   "cell_type": "code",
   "execution_count": null,
   "metadata": {},
   "outputs": [],
   "source": []
  }
 ],
 "metadata": {
  "kernelspec": {
   "display_name": "Python 3",
   "language": "python",
   "name": "python3"
  },
  "language_info": {
   "codemirror_mode": {
    "name": "ipython",
    "version": 3
   },
   "file_extension": ".py",
   "mimetype": "text/x-python",
   "name": "python",
   "nbconvert_exporter": "python",
   "pygments_lexer": "ipython3",
   "version": "3.7.6"
  }
 },
 "nbformat": 4,
 "nbformat_minor": 4
}
