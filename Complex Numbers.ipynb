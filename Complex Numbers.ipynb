{
 "cells": [
  {
   "cell_type": "code",
   "execution_count": 1,
   "metadata": {},
   "outputs": [],
   "source": [
    "from sympy import *\n",
    "from sympy.abc import x, y, a, b\n",
    "from sympy import function"
   ]
  },
  {
   "cell_type": "markdown",
   "metadata": {},
   "source": [
    "# Complex numbers"
   ]
  },
  {
   "cell_type": "markdown",
   "metadata": {},
   "source": [
    "## Imaginary number"
   ]
  },
  {
   "cell_type": "markdown",
   "metadata": {},
   "source": [
    "An **Imaginary number** is the solution to:\n",
    "$$ i = \\sqrt[]{-1} $$\n",
    "\n",
    "SO,\n",
    "$$\n",
    "\\begin{align}\n",
    "\\sqrt[]{-15} &= \\sqrt[]{-1 \\times 15} \\\\\n",
    "&= \\sqrt[]{-1} \\sqrt[]{15} \\\\\n",
    "&= i \\sqrt[]{15} \\\\\n",
    "&= 3.87i\n",
    "\\end{align}\n",
    "$$"
   ]
  },
  {
   "cell_type": "code",
   "execution_count": 2,
   "metadata": {},
   "outputs": [
    {
     "output_type": "execute_result",
     "data": {
      "text/plain": [
       "3.87*I"
      ],
      "text/latex": "$\\displaystyle 3.87 i$"
     },
     "metadata": {},
     "execution_count": 2
    }
   ],
   "source": [
    "# Using sympy\n",
    "sqrt(-15).evalf(3)"
   ]
  },
  {
   "cell_type": "markdown",
   "metadata": {},
   "source": [
    "A number is \"_imaginary_\" if its **square is negative**:\n",
    "\n",
    "$\\left( \\sqrt[]{-15} \\right)^{2}$"
   ]
  },
  {
   "cell_type": "code",
   "execution_count": 3,
   "metadata": {},
   "outputs": [
    {
     "output_type": "execute_result",
     "data": {
      "text/plain": [
       "-15"
      ],
      "text/latex": "$\\displaystyle -15$"
     },
     "metadata": {},
     "execution_count": 3
    }
   ],
   "source": [
    "(sqrt(-15))**2"
   ]
  },
  {
   "cell_type": "markdown",
   "metadata": {},
   "source": [
    "And because $i = \\sqrt[]{-1}$, then $i^{2}$:"
   ]
  },
  {
   "cell_type": "code",
   "execution_count": 4,
   "metadata": {},
   "outputs": [
    {
     "output_type": "execute_result",
     "data": {
      "text/plain": [
       "-1"
      ],
      "text/latex": "$\\displaystyle -1$"
     },
     "metadata": {},
     "execution_count": 4
    }
   ],
   "source": [
    "(I)**2"
   ]
  },
  {
   "cell_type": "markdown",
   "metadata": {},
   "source": [
    "A **complex number** is a number written in the form:\n",
    "$$z = a + bi$$\n",
    "containing a _real_ and an _imaginary_ part.\n",
    "\n",
    "$Re\\left( z \\right) = a$\n",
    "\n",
    "$Im\\left( z \\right) = bi$"
   ]
  },
  {
   "cell_type": "markdown",
   "metadata": {},
   "source": [
    "Lets write two complex numbers:"
   ]
  },
  {
   "cell_type": "code",
   "execution_count": 5,
   "metadata": {},
   "outputs": [],
   "source": [
    "z = 1 + 3*I\n",
    "w = -2 + I"
   ]
  },
  {
   "cell_type": "code",
   "execution_count": 6,
   "metadata": {},
   "outputs": [
    {
     "output_type": "stream",
     "name": "stdout",
     "text": [
      "The Real part of z is 1 and the Imaginary part is 3\n"
     ]
    }
   ],
   "source": [
    "print(\"The Real part of z is {} and the Imaginary part is {}\".format(re(z), im(z)))"
   ]
  },
  {
   "cell_type": "markdown",
   "metadata": {},
   "source": [
    "## Operations with complex numbers"
   ]
  },
  {
   "cell_type": "code",
   "execution_count": 7,
   "metadata": {},
   "outputs": [
    {
     "output_type": "execute_result",
     "data": {
      "text/plain": [
       "-1 + 4*I"
      ],
      "text/latex": "$\\displaystyle -1 + 4 i$"
     },
     "metadata": {},
     "execution_count": 7
    }
   ],
   "source": [
    "z + w"
   ]
  },
  {
   "cell_type": "code",
   "execution_count": 8,
   "metadata": {},
   "outputs": [
    {
     "output_type": "execute_result",
     "data": {
      "text/plain": [
       "3 + 2*I"
      ],
      "text/latex": "$\\displaystyle 3 + 2 i$"
     },
     "metadata": {},
     "execution_count": 8
    }
   ],
   "source": [
    "z - w"
   ]
  },
  {
   "cell_type": "code",
   "execution_count": 9,
   "metadata": {},
   "outputs": [
    {
     "output_type": "execute_result",
     "data": {
      "text/plain": [
       "-8 + 6*I"
      ],
      "text/latex": "$\\displaystyle -8 + 6 i$"
     },
     "metadata": {},
     "execution_count": 9
    }
   ],
   "source": [
    "# (1 + 3*I)*(1 + 3*I) = (1 + 3I + 3I + (3I)**2) = (1 + 3I + 3I + (-9))\n",
    "expand(z**2)"
   ]
  },
  {
   "cell_type": "code",
   "execution_count": 10,
   "metadata": {},
   "outputs": [
    {
     "output_type": "stream",
     "name": "stdout",
     "text": [
      "(-2 + I)*(1 + 3*I)\n-5 - 5*I\n"
     ]
    }
   ],
   "source": [
    "print(z*w)\n",
    "print(expand(z*w))"
   ]
  },
  {
   "cell_type": "markdown",
   "metadata": {},
   "source": [
    "## Complex conjugate"
   ]
  },
  {
   "cell_type": "markdown",
   "metadata": {},
   "source": [
    "The **complex conjugate** of a complex number $z = a + bi$ is:\n",
    "\n",
    "$\\bar{z} = a - bi$\n",
    "\n",
    "So, for $z = 1 + 3i$, $\\bar{z}$ is:"
   ]
  },
  {
   "cell_type": "code",
   "execution_count": 11,
   "metadata": {},
   "outputs": [
    {
     "output_type": "execute_result",
     "data": {
      "text/plain": [
       "1 - 3*I"
      ],
      "text/latex": "$\\displaystyle 1 - 3 i$"
     },
     "metadata": {},
     "execution_count": 11
    }
   ],
   "source": [
    "conjugate(z)"
   ]
  },
  {
   "cell_type": "markdown",
   "metadata": {},
   "source": [
    "## Modulus"
   ]
  },
  {
   "cell_type": "markdown",
   "metadata": {},
   "source": [
    "The **modulus** or _length_ of a complex number is $|z| = \\sqrt[]{a^{2} + b^{2}}$"
   ]
  },
  {
   "cell_type": "code",
   "execution_count": 12,
   "metadata": {},
   "outputs": [
    {
     "output_type": "execute_result",
     "data": {
      "text/plain": [
       "sqrt(10)"
      ],
      "text/latex": "$\\displaystyle \\sqrt{10}$"
     },
     "metadata": {},
     "execution_count": 12
    }
   ],
   "source": [
    "abs(z)"
   ]
  },
  {
   "cell_type": "markdown",
   "metadata": {},
   "source": [
    "## Complex and its conjugate"
   ]
  },
  {
   "cell_type": "markdown",
   "metadata": {},
   "source": [
    "$$\n",
    "\\begin{align}\n",
    "z \\bar{z} &= a^{2} + b^{2} \\\\\n",
    "|z| &= \\sqrt{z \\bar{z}}\n",
    "\\end{align}\n",
    "$$"
   ]
  },
  {
   "cell_type": "code",
   "execution_count": 13,
   "metadata": {},
   "outputs": [
    {
     "output_type": "execute_result",
     "data": {
      "text/plain": [
       "(1 - 3*I)*(1 + 3*I)"
      ],
      "text/latex": "$\\displaystyle \\left(1 - 3 i\\right) \\left(1 + 3 i\\right)$"
     },
     "metadata": {},
     "execution_count": 13
    }
   ],
   "source": [
    "z * conjugate(z)"
   ]
  },
  {
   "cell_type": "code",
   "execution_count": 14,
   "metadata": {},
   "outputs": [
    {
     "output_type": "execute_result",
     "data": {
      "text/plain": [
       "10"
      ],
      "text/latex": "$\\displaystyle 10$"
     },
     "metadata": {},
     "execution_count": 14
    }
   ],
   "source": [
    "expand(z * conjugate(z))"
   ]
  },
  {
   "cell_type": "code",
   "execution_count": 15,
   "metadata": {},
   "outputs": [
    {
     "output_type": "execute_result",
     "data": {
      "text/plain": [
       "(-2 - I)*(-2 + I)"
      ],
      "text/latex": "$\\displaystyle \\left(-2 - i\\right) \\left(-2 + i\\right)$"
     },
     "metadata": {},
     "execution_count": 15
    }
   ],
   "source": [
    "w * conjugate(w)"
   ]
  },
  {
   "cell_type": "code",
   "execution_count": 16,
   "metadata": {},
   "outputs": [
    {
     "output_type": "execute_result",
     "data": {
      "text/plain": [
       "5"
      ],
      "text/latex": "$\\displaystyle 5$"
     },
     "metadata": {},
     "execution_count": 16
    }
   ],
   "source": [
    "expand(w * conjugate(w))"
   ]
  },
  {
   "cell_type": "markdown",
   "metadata": {},
   "source": [
    "## Division"
   ]
  },
  {
   "cell_type": "markdown",
   "metadata": {},
   "source": [
    "As long as $z \\neq 0 + 0i$:\n",
    "\n",
    "$$\n",
    "\\begin{align}\n",
    "\\frac{1}{z} &= \\frac{1}{z}.\\frac{\\bar{z}}{\\bar{z}} \\\\\n",
    "&= \\frac{\\bar{z}}{|\\bar{z}|^{2}}\n",
    "\\end{align}\n",
    "$$"
   ]
  },
  {
   "cell_type": "code",
   "execution_count": 17,
   "metadata": {},
   "outputs": [
    {
     "output_type": "execute_result",
     "data": {
      "text/plain": [
       "1/5 - 7*I/5"
      ],
      "text/latex": "$\\displaystyle \\frac{1}{5} - \\frac{7 i}{5}$"
     },
     "metadata": {},
     "execution_count": 17
    }
   ],
   "source": [
    "simplify(z/w)"
   ]
  },
  {
   "cell_type": "markdown",
   "metadata": {},
   "source": [
    "## Euler's formula"
   ]
  },
  {
   "cell_type": "markdown",
   "metadata": {},
   "source": [
    "More suited for Quantum Mechanics is a relationship between the **exponential function** and **trigonometric functions**:\n",
    "\n",
    "$$ e^{i \\theta} = \\cos \\theta + i \\sin \\theta$$\n",
    "\n",
    "Where $\\theta$ is a **real number** and in **radians**."
   ]
  },
  {
   "cell_type": "markdown",
   "metadata": {},
   "source": [
    "Any **complex number** in the form $z = a + bi$ can be written as:\n",
    "\n",
    "$$z = |z|e^{i \\theta}$$\n",
    "\n",
    "where $|z|$ is the modulus of **z** and $\\theta$ is the angle between the real and imaginary axis.\n",
    "\n",
    "The relations are:\n",
    "\n",
    "$$\\theta = \\arctan \\left ( \\frac{b}{a} \\right ), or ~ \\theta = \\arcsin \\left ( \\frac{b}{|z|} \\right ), or ~ \\theta = \\arccos \\left ( \\frac{a}{|z|} \\right )$$\n",
    "\n",
    "$\\theta$ is the **argument** of the complex number and, exactly as with polar coordinates we must remenber that:\n",
    "\n",
    "$a = |z| \\cos \\theta$\n",
    "\n",
    "$b = |z| \\sin \\theta$\n",
    "\n",
    "We can rewrite the formula $z = a + bi$:\n",
    "\n",
    "$$\n",
    "\\begin{align}\n",
    "z &= a + bi \\\\\n",
    "z &= |z| \\cos \\theta + i|z| \\sin \\theta \\\\\n",
    "z &= |z| (\\cos \\theta + i\\sin \\theta)\n",
    "\\end{align}\n",
    "$$\n",
    "Remembering Euler's formula: $e^{i \\theta} = \\cos \\theta + i \\sin \\theta$\n",
    "$$|z|e^{i \\theta}$$"
   ]
  },
  {
   "cell_type": "markdown",
   "metadata": {},
   "source": [
    "### Example:\n",
    "\n",
    "What is the polar form of $z = 5 - 5i$"
   ]
  },
  {
   "cell_type": "code",
   "execution_count": 18,
   "metadata": {},
   "outputs": [
    {
     "output_type": "execute_result",
     "data": {
      "text/plain": [
       "5 - 5*I"
      ],
      "text/latex": "$\\displaystyle 5 - 5 i$"
     },
     "metadata": {},
     "execution_count": 18
    }
   ],
   "source": [
    "z = 5 - 5*I\n",
    "z"
   ]
  },
  {
   "cell_type": "code",
   "execution_count": 19,
   "metadata": {},
   "outputs": [
    {
     "output_type": "execute_result",
     "data": {
      "text/plain": [
       "-pi/4"
      ],
      "text/latex": "$\\displaystyle - \\frac{\\pi}{4}$"
     },
     "metadata": {},
     "execution_count": 19
    }
   ],
   "source": [
    "θ = atan(im(z)/re(z))\n",
    "θ"
   ]
  },
  {
   "cell_type": "code",
   "execution_count": 20,
   "metadata": {},
   "outputs": [
    {
     "output_type": "execute_result",
     "data": {
      "text/plain": [
       "5*sqrt(2)*exp(-I*pi/4)"
      ],
      "text/latex": "$\\displaystyle 5 \\sqrt{2} e^{- \\frac{i \\pi}{4}}$"
     },
     "metadata": {},
     "execution_count": 20
    }
   ],
   "source": [
    "expand(abs(z)*exp(I * θ))"
   ]
  },
  {
   "cell_type": "markdown",
   "metadata": {},
   "source": [
    "The conjugate of $|z|e^{i \\theta}$ is $|z|e^{-i \\theta}$"
   ]
  },
  {
   "cell_type": "code",
   "execution_count": 21,
   "metadata": {},
   "outputs": [],
   "source": [
    "a = 1 + I\n",
    "b = 2 - 1"
   ]
  },
  {
   "cell_type": "code",
   "execution_count": 22,
   "metadata": {},
   "outputs": [
    {
     "output_type": "execute_result",
     "data": {
      "text/plain": [
       "1 + I"
      ],
      "text/latex": "$\\displaystyle 1 + i$"
     },
     "metadata": {},
     "execution_count": 22
    }
   ],
   "source": [
    "a/b"
   ]
  },
  {
   "cell_type": "code",
   "execution_count": null,
   "metadata": {},
   "outputs": [],
   "source": []
  },
  {
   "cell_type": "code",
   "execution_count": null,
   "metadata": {},
   "outputs": [],
   "source": []
  }
 ],
 "metadata": {
  "kernelspec": {
   "display_name": "Python 3",
   "language": "python",
   "name": "python3"
  },
  "language_info": {
   "codemirror_mode": {
    "name": "ipython",
    "version": 3
   },
   "file_extension": ".py",
   "mimetype": "text/x-python",
   "name": "python",
   "nbconvert_exporter": "python",
   "pygments_lexer": "ipython3",
   "version": "3.8.5"
  }
 },
 "nbformat": 4,
 "nbformat_minor": 4
}