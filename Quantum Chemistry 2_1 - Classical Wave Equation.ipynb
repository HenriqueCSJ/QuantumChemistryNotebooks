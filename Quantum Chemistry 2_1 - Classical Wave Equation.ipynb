{
 "cells": [
  {
   "cell_type": "markdown",
   "metadata": {},
   "source": [
    "# Quantum Chemistry 2.1 - Classical Wave Equation"
   ]
  },
  {
   "cell_type": "markdown",
   "metadata": {},
   "source": [
    "$$u(x,t) \\rightarrow wave~displacement$$"
   ]
  },
  {
   "cell_type": "markdown",
   "metadata": {},
   "source": [
    "<center><img src=\"Images\\Classic_wave\\1D_classic_wave.jpg\" width=\"300\"></center>"
   ]
  },
  {
   "cell_type": "markdown",
   "metadata": {},
   "source": [
    "To understand the classical wave motion we need to solve the **classical wave equation** that is:\n",
    "\n",
    "2nd Order **PDE**"
   ]
  },
  {
   "cell_type": "markdown",
   "metadata": {},
   "source": [
    "$$ \\frac{\\partial^{2} u \\left( x,y \\right)}{\\partial x^{2}} = \\frac{1}{v^{2}} \\frac{\\partial^{2} u \\left( x,y \\right)}{\\partial t^{2}}$$"
   ]
  },
  {
   "cell_type": "markdown",
   "metadata": {},
   "source": [
    "Let's assume that the function **u(x,t)** may be divided in two different functions (separatio of variables): X(x) and T(t). So:"
   ]
  },
  {
   "cell_type": "markdown",
   "metadata": {},
   "source": [
    "$$ u \\left( x,t \\right) = X \\left( x \\right) T \\left( t \\right) $$"
   ]
  },
  {
   "cell_type": "markdown",
   "metadata": {},
   "source": [
    "We are now ready to substitute $ u \\left( x,t \\right) = X \\left( x \\right) T \\left( t \\right) $ into out Partial Differential equation:"
   ]
  },
  {
   "cell_type": "markdown",
   "metadata": {},
   "source": [
    "$$ \\frac{\\partial^{2} X \\left( x \\right) T \\left( t \\right) }{\\partial x^{2}} = \\frac{1}{v^{2}} \\frac{\\partial^{2} X \\left( x \\right) T \\left( t \\right) }{\\partial t^{2}}$$"
   ]
  },
  {
   "cell_type": "markdown",
   "metadata": {},
   "source": [
    "On the left side of the new equation **$T(t)$** does not depend on $x$ so it can be factored out.\n",
    "\n",
    "On the right side of the new equation **$X(x)$** does not depend on $t$ so it can be factored out too."
   ]
  },
  {
   "cell_type": "markdown",
   "metadata": {},
   "source": [
    "$$ T \\left( t \\right)  \\frac{d^{2} X \\left( x \\right)}{d~x^{2}} = \\frac{X \\left( x \\right)}{v^{2}} \\frac{d^{2} T \\left( t \\right) }{d~t^{2}}$$"
   ]
  },
  {
   "cell_type": "markdown",
   "metadata": {},
   "source": [
    "Multiplying both sides of the equation by $\\frac{1}{X(x)}$ and $\\frac{1}{T(t)}$\n",
    "\n",
    "$$ \n",
    "\\frac{1}{X \\left( x \\right) T \\left( t \\right)}\n",
    "T \\left( t \\right)  \n",
    "\\frac{d^{2} X \\left( x \\right)}{d~x^{2}} \n",
    "= \n",
    "\\frac{1}{X \\left( x \\right) T \\left( t \\right)}\n",
    "\\frac{X \\left( x \\right)}{v^{2}} \n",
    "\\frac{d^{2} T \\left( t \\right) }{d~t^{2}}\n",
    "$$\n",
    "\n",
    "$$ \n",
    "\\frac{1}{X \\left( x \\right)}\n",
    "\\frac{d^{2} X \\left( x \\right)}{d~x^{2}} \n",
    "= \n",
    "\\frac{1}{v^{2} T \\left( t \\right)} \n",
    "\\frac{d^{2} T \\left( t \\right) }{d~t^{2}}\n",
    "$$"
   ]
  },
  {
   "cell_type": "markdown",
   "metadata": {},
   "source": [
    "To solve the equation it is necessary no note that, as the left side is dependent only of the **space function** and the right side is dependent only on the **time function** the equal sign DEMANDS that the equation is solvable for ANY $x$ and any $t$. That means that the values that each side equals to must be independent of $x$ and $t$. Because of that, the equation is, actually, formed by a constant:"
   ]
  },
  {
   "cell_type": "markdown",
   "metadata": {},
   "source": [
    "$$ \n",
    "\\frac{1}{X \\left( x \\right)}\n",
    "\\frac{d^{2} X \\left( x \\right)}{d~x^{2}} \n",
    "= \n",
    "\\frac{1}{v^{2} T \\left( t \\right)} \n",
    "\\frac{d^{2} T \\left( t \\right) }{d~t^{2}}\n",
    "=\n",
    "k\n",
    "=\n",
    "-\\beta^{2}\n",
    "$$"
   ]
  },
  {
   "cell_type": "markdown",
   "metadata": {},
   "source": [
    "Because both sides of the equation are constants, we may solve:\n",
    "\n",
    "$$ \n",
    "\\frac{d^{2} X \\left( x \\right)}{d~x^{2}} \n",
    "=\n",
    "-\\beta^{2} X \\left( x \\right)\n",
    "$$\n",
    "$$\n",
    "and\n",
    "$$\n",
    "$$\n",
    "\\frac{d^{2} T \\left( t \\right) }{d~t^{2}}\n",
    "=\n",
    " -\\beta^{2} v^{2} T \\left( t \\right)\n",
    "$$"
   ]
  },
  {
   "cell_type": "markdown",
   "metadata": {},
   "source": [
    "The $-\\beta^2$ constant was selected on purpose to fit the property:\n",
    "\n",
    "\"When the second derivative of a function equals a negative constant squared times the fucntion itself the equality may be rewritten as \n",
    "\n",
    "$$\n",
    "X \\left( x \\right) = A \\cos \\left( \\beta x \\right) + B \\sin \\left( \\beta x \\right)\n",
    "\\\\\n",
    "T \\left( t \\right) = C \\cos \\left( \\beta vt \\right) + B \\sin \\left( \\beta vt \\right) \n",
    "$$"
   ]
  },
  {
   "cell_type": "markdown",
   "metadata": {},
   "source": [
    "It is possible to check that the statement above is true by taking the second derivatives of both trigonometric functions and checking that it gives back the original functions."
   ]
  },
  {
   "cell_type": "markdown",
   "metadata": {},
   "source": [
    "# Solving the equations using Sympy"
   ]
  },
  {
   "cell_type": "code",
   "execution_count": 1,
   "metadata": {},
   "outputs": [],
   "source": [
    "from sympy import *"
   ]
  },
  {
   "cell_type": "code",
   "execution_count": 2,
   "metadata": {},
   "outputs": [],
   "source": [
    "x = Symbol(\"x\")\n",
    "t = Symbol(\"t\")\n",
    "v = Symbol(\"v\")\n",
    "A = Symbol(\"A\")\n",
    "B = Symbol(\"B\")\n",
    "C = Symbol(\"C\")\n",
    "D = Symbol(\"D\")\n",
    "β = Symbol(\"β\")\n",
    "u = Function(\"u\")(x,t)\n",
    "X = Function(\"X\")\n",
    "T = Function(\"T\")"
   ]
  },
  {
   "cell_type": "code",
   "execution_count": 3,
   "metadata": {},
   "outputs": [
    {
     "data": {
      "text/latex": [
       "$\\displaystyle \\frac{\\partial^{2}}{\\partial x^{2}} u{\\left(x,t \\right)} = \\frac{\\frac{\\partial^{2}}{\\partial t^{2}} u{\\left(x,t \\right)}}{v^{2}}$"
      ],
      "text/plain": [
       "Eq(Derivative(u(x, t), (x, 2)), Derivative(u(x, t), (t, 2))/v**2)"
      ]
     },
     "execution_count": 3,
     "metadata": {},
     "output_type": "execute_result"
    }
   ],
   "source": [
    "eq1 = Eq(diff(u, x,x), 1/v**2 * diff(u, t,t))\n",
    "eq1"
   ]
  },
  {
   "cell_type": "code",
   "execution_count": 4,
   "metadata": {},
   "outputs": [],
   "source": [
    "u = X(x)*T(t)"
   ]
  },
  {
   "cell_type": "code",
   "execution_count": 5,
   "metadata": {},
   "outputs": [
    {
     "data": {
      "text/latex": [
       "$\\displaystyle T{\\left(t \\right)} \\frac{d^{2}}{d x^{2}} X{\\left(x \\right)} = \\frac{X{\\left(x \\right)} \\frac{d^{2}}{d t^{2}} T{\\left(t \\right)}}{v^{2}}$"
      ],
      "text/plain": [
       "Eq(T(t)*Derivative(X(x), (x, 2)), X(x)*Derivative(T(t), (t, 2))/v**2)"
      ]
     },
     "execution_count": 5,
     "metadata": {},
     "output_type": "execute_result"
    }
   ],
   "source": [
    "eq2 = Eq(diff(u, x,x), 1/v**2 * diff(u, t,t))\n",
    "eq2"
   ]
  },
  {
   "cell_type": "code",
   "execution_count": 6,
   "metadata": {},
   "outputs": [
    {
     "data": {
      "text/latex": [
       "$\\displaystyle \\frac{\\frac{d^{2}}{d x^{2}} X{\\left(x \\right)}}{X{\\left(x \\right)}} = \\frac{\\frac{d^{2}}{d t^{2}} T{\\left(t \\right)}}{v^{2} T{\\left(t \\right)}}$"
      ],
      "text/plain": [
       "Eq(Derivative(X(x), (x, 2))/X(x), Derivative(T(t), (t, 2))/(v**2*T(t)))"
      ]
     },
     "execution_count": 6,
     "metadata": {},
     "output_type": "execute_result"
    }
   ],
   "source": [
    "eq3 = Eq(T(t)*Derivative(X(x), (x, 2)) * ((1/X(x))*(1/T(t))), X(x)*Derivative(T(t), (t, 2))/v**2 * ((1/X(x))*(1/T(t))))\n",
    "eq3"
   ]
  },
  {
   "cell_type": "code",
   "execution_count": 7,
   "metadata": {},
   "outputs": [
    {
     "data": {
      "text/latex": [
       "$\\displaystyle - β^{2}$"
      ],
      "text/plain": [
       "-β**2"
      ]
     },
     "execution_count": 7,
     "metadata": {},
     "output_type": "execute_result"
    }
   ],
   "source": [
    "constant = -β**2\n",
    "constant"
   ]
  },
  {
   "cell_type": "code",
   "execution_count": 8,
   "metadata": {},
   "outputs": [
    {
     "data": {
      "text/latex": [
       "$\\displaystyle \\frac{\\frac{d^{2}}{d x^{2}} X{\\left(x \\right)}}{X{\\left(x \\right)}} = - β^{2}$"
      ],
      "text/plain": [
       "Eq(Derivative(X(x), (x, 2))/X(x), -β**2)"
      ]
     },
     "execution_count": 8,
     "metadata": {},
     "output_type": "execute_result"
    }
   ],
   "source": [
    "eq4 = Eq(Derivative(X(x), (x, 2))/X(x), constant)\n",
    "eq4"
   ]
  },
  {
   "cell_type": "code",
   "execution_count": 9,
   "metadata": {},
   "outputs": [
    {
     "data": {
      "text/latex": [
       "$\\displaystyle \\frac{d^{2}}{d x^{2}} X{\\left(x \\right)} = - β^{2} X{\\left(x \\right)}$"
      ],
      "text/plain": [
       "Eq(Derivative(X(x), (x, 2)), -β**2*X(x))"
      ]
     },
     "execution_count": 9,
     "metadata": {},
     "output_type": "execute_result"
    }
   ],
   "source": [
    "eq5 = Eq((X(x)) * Derivative(X(x), (x, 2))/X(x), (X(x)) * constant)\n",
    "eq5"
   ]
  },
  {
   "cell_type": "code",
   "execution_count": 10,
   "metadata": {},
   "outputs": [
    {
     "data": {
      "text/latex": [
       "$\\displaystyle \\frac{\\frac{d^{2}}{d t^{2}} T{\\left(t \\right)}}{v^{2} T{\\left(t \\right)}} = - β^{2}$"
      ],
      "text/plain": [
       "Eq(Derivative(T(t), (t, 2))/(v**2*T(t)), -β**2)"
      ]
     },
     "execution_count": 10,
     "metadata": {},
     "output_type": "execute_result"
    }
   ],
   "source": [
    "eq6 = Eq(X(x)*Derivative(T(t), (t, 2))/v**2 * ((1/X(x))*(1/T(t))), constant)\n",
    "eq6"
   ]
  },
  {
   "cell_type": "code",
   "execution_count": 11,
   "metadata": {
    "scrolled": true
   },
   "outputs": [
    {
     "data": {
      "text/latex": [
       "$\\displaystyle \\frac{d^{2}}{d t^{2}} T{\\left(t \\right)} = - v^{2} β^{2} T{\\left(t \\right)}$"
      ],
      "text/plain": [
       "Eq(Derivative(T(t), (t, 2)), -v**2*β**2*T(t))"
      ]
     },
     "execution_count": 11,
     "metadata": {},
     "output_type": "execute_result"
    }
   ],
   "source": [
    "eq7 = Eq((v**2 * T(t)) * X(x)*Derivative(T(t), (t, 2))/v**2 * ((1/X(x))*(1/T(t))), (v**2 * T(t)) * constant)\n",
    "eq7"
   ]
  },
  {
   "cell_type": "markdown",
   "metadata": {},
   "source": [
    "---"
   ]
  },
  {
   "cell_type": "markdown",
   "metadata": {},
   "source": [
    "## Let's see if we can get back the initial trigonometric equation:"
   ]
  },
  {
   "cell_type": "code",
   "execution_count": 12,
   "metadata": {},
   "outputs": [
    {
     "data": {
      "text/latex": [
       "$\\displaystyle X{\\left(x \\right)} = A \\cos{\\left(x β \\right)} + B \\sin{\\left(x β \\right)}$"
      ],
      "text/plain": [
       "Eq(X(x), A*cos(x*β) + B*sin(x*β))"
      ]
     },
     "execution_count": 12,
     "metadata": {},
     "output_type": "execute_result"
    }
   ],
   "source": [
    "Eq(X(x), (A*cos(β*x) + B*sin(β*x)))"
   ]
  },
  {
   "cell_type": "code",
   "execution_count": 13,
   "metadata": {},
   "outputs": [
    {
     "data": {
      "text/latex": [
       "$\\displaystyle \\frac{d^{2}}{d x^{2}} X{\\left(x \\right)} = - β^{2} \\left(A \\cos{\\left(x β \\right)} + B \\sin{\\left(x β \\right)}\\right)$"
      ],
      "text/plain": [
       "Eq(Derivative(X(x), (x, 2)), -β**2*(A*cos(x*β) + B*sin(x*β)))"
      ]
     },
     "execution_count": 13,
     "metadata": {},
     "output_type": "execute_result"
    }
   ],
   "source": [
    "Eq(diff(X(x),x,x), diff(A*cos(β*x) + B*sin(β*x),x,x))"
   ]
  },
  {
   "cell_type": "markdown",
   "metadata": {},
   "source": [
    "Remembering that: $X \\left( x \\right) = A \\cos \\left( \\beta x \\right) + B \\sin \\left( \\beta x \\right)$"
   ]
  },
  {
   "cell_type": "markdown",
   "metadata": {},
   "source": [
    "---"
   ]
  },
  {
   "cell_type": "code",
   "execution_count": 17,
   "metadata": {},
   "outputs": [
    {
     "data": {
      "text/latex": [
       "$\\displaystyle T{\\left(t \\right)} = C \\cos{\\left(t v β \\right)} + D \\sin{\\left(t v β \\right)}$"
      ],
      "text/plain": [
       "Eq(T(t), C*cos(t*v*β) + D*sin(t*v*β))"
      ]
     },
     "execution_count": 17,
     "metadata": {},
     "output_type": "execute_result"
    }
   ],
   "source": [
    "Eq(T(t), C*cos(β*v*t) + D*sin(β*v*t))"
   ]
  },
  {
   "cell_type": "code",
   "execution_count": 16,
   "metadata": {
    "scrolled": true
   },
   "outputs": [
    {
     "data": {
      "text/latex": [
       "$\\displaystyle \\frac{d^{2}}{d t^{2}} T{\\left(t \\right)} = - v^{2} β^{2} \\left(C \\cos{\\left(t v β \\right)} + D \\sin{\\left(t v β \\right)}\\right)$"
      ],
      "text/plain": [
       "Eq(Derivative(T(t), (t, 2)), -v**2*β**2*(C*cos(t*v*β) + D*sin(t*v*β)))"
      ]
     },
     "execution_count": 16,
     "metadata": {},
     "output_type": "execute_result"
    }
   ],
   "source": [
    "Eq(diff(T(t),t,t), diff(C*cos(β*v*t) + D*sin(β*v*t),t,t))"
   ]
  },
  {
   "cell_type": "markdown",
   "metadata": {},
   "source": [
    "Remembering that $T \\left( t \\right) = C \\cos \\left( \\beta vt \\right) + B \\sin \\left( \\beta vt \\right) $"
   ]
  },
  {
   "cell_type": "code",
   "execution_count": null,
   "metadata": {},
   "outputs": [],
   "source": []
  }
 ],
 "metadata": {
  "kernelspec": {
   "display_name": "Python 3",
   "language": "python",
   "name": "python3"
  },
  "language_info": {
   "codemirror_mode": {
    "name": "ipython",
    "version": 3
   },
   "file_extension": ".py",
   "mimetype": "text/x-python",
   "name": "python",
   "nbconvert_exporter": "python",
   "pygments_lexer": "ipython3",
   "version": "3.6.13"
  }
 },
 "nbformat": 4,
 "nbformat_minor": 4
}
