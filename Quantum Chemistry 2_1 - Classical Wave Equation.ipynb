{
 "cells": [
  {
   "cell_type": "markdown",
   "metadata": {},
   "source": [
    "# Quantum Chemistry 2.1 - Classical Wave Equation"
   ]
  },
  {
   "cell_type": "markdown",
   "metadata": {},
   "source": [
    "Link to [video lecture](https://www.youtube.com/watch?v=OpTAXlTVnT4&list=PLm8ZSArAXicL3jKr_0nHHs5TwfhdkMFhh&index=9&frags=pl%2Cwn)\n",
    "\n",
    "---"
   ]
  },
  {
   "cell_type": "markdown",
   "metadata": {},
   "source": [
    "Staring with a wave: $u(x,t)$ → wave displacement\n",
    "\n",
    "1D Vibrating string $u(x,t)$\n",
    "\n",
    "![](Images/2.1/1D_string.png)"
   ]
  },
  {
   "cell_type": "markdown",
   "metadata": {},
   "source": [
    "## Classical wave equation"
   ]
  },
  {
   "cell_type": "markdown",
   "metadata": {},
   "source": [
    "$$ \\frac{\\partial^{2} u(x,t)}{\\partial x^{2}} = \\frac{1}{v^{2}} \\frac{\\partial^{2} u(x,t)}{\\partial t^{2}}$$\n",
    "\n",
    "<center>2nd order P.D.E.<\\center>"
   ]
  },
  {
   "cell_type": "code",
   "execution_count": null,
   "metadata": {},
   "outputs": [],
   "source": []
  }
 ],
 "metadata": {
  "kernelspec": {
   "display_name": "Python 3",
   "language": "python",
   "name": "python3"
  },
  "language_info": {
   "codemirror_mode": {
    "name": "ipython",
    "version": 3
   },
   "file_extension": ".py",
   "mimetype": "text/x-python",
   "name": "python",
   "nbconvert_exporter": "python",
   "pygments_lexer": "ipython3",
   "version": "3.7.7"
  }
 },
 "nbformat": 4,
 "nbformat_minor": 4
}
